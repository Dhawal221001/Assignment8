{
 "cells": [
  {
   "cell_type": "markdown",
   "id": "746125ad-d493-43ef-9ada-fb2289afb85a",
   "metadata": {},
   "source": [
    "### Q1. You are writing code for a company. The requirement of the company is that you create a python function that will check whether the password entered by the user is correct or not. The function should take the password as input and return the string “Valid Password” if the entered password follows the below-given password guidelines else it should return “Invalid Password”.\n",
    "### Note: 1. The Password should contain at least two uppercase letters and at least two lowercase letters.\n",
    "### 2. The Password should contain at least a number and three special characters.\n",
    "### 3. The length of the password should be 10 characters long."
   ]
  },
  {
   "cell_type": "code",
   "execution_count": 11,
   "id": "9660351a-d353-4442-b97b-eebbb31da305",
   "metadata": {},
   "outputs": [],
   "source": [
    "def verify():\n",
    "    password=input(\"Enter The password:\")\n",
    "    low=[]\n",
    "    upp=[]\n",
    "    num=[]\n",
    "    char=[]\n",
    "    for i in password:\n",
    "        if i.islower():\n",
    "            low.append(i)\n",
    "        elif i.isupper():\n",
    "            upp.append(i)\n",
    "        elif i.isalnum():\n",
    "            num.append(i)\n",
    "        elif i==\"!\" or i==\"@\" or i==\"#\" or i==\"$\" or i==\"%\" or i==\"&\" or i==\"*\" or i==\"?\":\n",
    "            char.append(i)\n",
    "        \n",
    "    if len(low)>=2 and len(upp)>=2 and len(num)>=1 and len(char)>=3 and len(password)==10:\n",
    "        return \"Valid Password\"\n",
    "    else:\n",
    "        return \"Invalid Password\"\n",
    "            "
   ]
  },
  {
   "cell_type": "code",
   "execution_count": 12,
   "id": "4e0b48a6-823c-4a3c-8873-53ccf8cca977",
   "metadata": {},
   "outputs": [
    {
     "name": "stdin",
     "output_type": "stream",
     "text": [
      "Enter The password: dh4#$&*2GH\n"
     ]
    },
    {
     "data": {
      "text/plain": [
       "'Valid Password'"
      ]
     },
     "execution_count": 12,
     "metadata": {},
     "output_type": "execute_result"
    }
   ],
   "source": [
    "verify()"
   ]
  },
  {
   "cell_type": "markdown",
   "id": "86c59fda-55cd-4259-ae0c-e6838ad8427d",
   "metadata": {},
   "source": [
    "## Q2. Solve the below-given questions using at least one of the following:\n",
    "## 1. Lambda function\n",
    "## 2. Filter function\n",
    "## 3. Map function\n",
    "## 4. List Comprehension\n",
    "## * Check if the string starts with a particular letter.\n",
    "## * Check if the string is numeric.\n",
    "## * Sort a list of tuples having fruit names and their quantity. [(\"mango\",99),(\"orange\",80), (\"grapes\", 1000)-\n",
    "## * Find the squares of numbers from 1 to 10Y\n",
    "## * Find the cube root of numbers from 1 to 10Y\n",
    "## * Check if a given number is evenY\n",
    "## * Filter odd numbers from the given list.\n",
    "## [1,2,3,4,5,6,7,8,9,10-\n",
    "## * Sort a list of integers into positive and negative integers lists.\n",
    "## [1,2,3,4,5,6,-1,-2,-3,-4,-5,0]"
   ]
  },
  {
   "cell_type": "code",
   "execution_count": 30,
   "id": "1ef5c3eb-2868-40b1-9482-0dd24c58b625",
   "metadata": {},
   "outputs": [],
   "source": [
    "#  1.\n",
    "string1=\"Data science Masters Course.\"\n",
    "check1 =lambda string: \"yes\" if string[0]==\"d\" else \"no\""
   ]
  },
  {
   "cell_type": "code",
   "execution_count": 29,
   "id": "5e633109-650c-4f46-99d7-ee369ee767b5",
   "metadata": {},
   "outputs": [
    {
     "data": {
      "text/plain": [
       "'no'"
      ]
     },
     "execution_count": 29,
     "metadata": {},
     "output_type": "execute_result"
    }
   ],
   "source": [
    "check1(string1)"
   ]
  },
  {
   "cell_type": "code",
   "execution_count": 35,
   "id": "638e8998-e236-47c3-a972-693122a3b828",
   "metadata": {},
   "outputs": [],
   "source": [
    "#  2.\n",
    "string2=\"123abc\"\n",
    "check2 =lambda string: \"yes\" if string.isnumeric() else \"no\""
   ]
  },
  {
   "cell_type": "code",
   "execution_count": 36,
   "id": "8b397a90-a0ff-4eee-831e-3559bbcb2824",
   "metadata": {},
   "outputs": [
    {
     "data": {
      "text/plain": [
       "'no'"
      ]
     },
     "execution_count": 36,
     "metadata": {},
     "output_type": "execute_result"
    }
   ],
   "source": [
    "check2(string2)"
   ]
  },
  {
   "cell_type": "code",
   "execution_count": 44,
   "id": "43f66cc2-7622-4923-9398-76eac0c41c39",
   "metadata": {},
   "outputs": [],
   "source": [
    "#  3.\n",
    "list1=[(\"mango\",99),(\"orange\",80),(\"grapes\",1000)]"
   ]
  },
  {
   "cell_type": "code",
   "execution_count": 56,
   "id": "de83809f-8574-44f1-b490-cdd69e93c09f",
   "metadata": {},
   "outputs": [
    {
     "data": {
      "text/plain": [
       "{'grapes': 1000, 'mango': 99, 'orange': 80}"
      ]
     },
     "execution_count": 56,
     "metadata": {},
     "output_type": "execute_result"
    }
   ],
   "source": [
    "dict(list1)"
   ]
  },
  {
   "cell_type": "code",
   "execution_count": 57,
   "id": "9902ce88-3166-4ff2-a5f2-967c8917561c",
   "metadata": {},
   "outputs": [],
   "source": [
    "r_list=[i for i in list(dict(list1).items())]"
   ]
  },
  {
   "cell_type": "code",
   "execution_count": 58,
   "id": "693f2a40-058b-4b4f-8c6d-777c907f4f02",
   "metadata": {},
   "outputs": [
    {
     "data": {
      "text/plain": [
       "[('grapes', 1000), ('mango', 99), ('orange', 80)]"
      ]
     },
     "execution_count": 58,
     "metadata": {},
     "output_type": "execute_result"
    }
   ],
   "source": [
    "r_list  ## Sorted in descending order"
   ]
  },
  {
   "cell_type": "code",
   "execution_count": 67,
   "id": "fc8db282-87d2-4507-a306-fabb256442d0",
   "metadata": {},
   "outputs": [],
   "source": [
    "#  4.\n",
    "list2=[]\n",
    "for i in range(11):\n",
    "    list2.append(i)\n",
    "    \n",
    "    \n",
    "s_list2=list(map(lambda x:x**2, list2))"
   ]
  },
  {
   "cell_type": "code",
   "execution_count": 68,
   "id": "6ad22797-b4a3-4430-9855-75703dffb58f",
   "metadata": {},
   "outputs": [
    {
     "data": {
      "text/plain": [
       "[0, 1, 4, 9, 16, 25, 36, 49, 64, 81, 100]"
      ]
     },
     "execution_count": 68,
     "metadata": {},
     "output_type": "execute_result"
    }
   ],
   "source": [
    "s_list2"
   ]
  },
  {
   "cell_type": "code",
   "execution_count": 69,
   "id": "1b271fae-f076-4853-b8e0-99ec525e4d06",
   "metadata": {},
   "outputs": [],
   "source": [
    "#  5.\n",
    "c_list=list(map(lambda x:x**3,list2))"
   ]
  },
  {
   "cell_type": "code",
   "execution_count": 70,
   "id": "922cf8f2-baf5-43d1-9569-52e1a5d0e276",
   "metadata": {},
   "outputs": [
    {
     "data": {
      "text/plain": [
       "[0, 1, 8, 27, 64, 125, 216, 343, 512, 729, 1000]"
      ]
     },
     "execution_count": 70,
     "metadata": {},
     "output_type": "execute_result"
    }
   ],
   "source": [
    "c_list"
   ]
  },
  {
   "cell_type": "code",
   "execution_count": 76,
   "id": "2cc629d8-1a54-442d-9f3f-913c480c5947",
   "metadata": {},
   "outputs": [],
   "source": [
    "#  6.\n",
    "even=lambda x: \"Even\" if x%2==0 else \"odd\""
   ]
  },
  {
   "cell_type": "code",
   "execution_count": 77,
   "id": "02313142-b6a4-4186-8bcb-27c42c23df6d",
   "metadata": {},
   "outputs": [
    {
     "data": {
      "text/plain": [
       "'odd'"
      ]
     },
     "execution_count": 77,
     "metadata": {},
     "output_type": "execute_result"
    }
   ],
   "source": [
    "even(33)"
   ]
  },
  {
   "cell_type": "code",
   "execution_count": 80,
   "id": "c8c0b3bb-ee1f-4b7e-9873-1e655aa21253",
   "metadata": {},
   "outputs": [
    {
     "data": {
      "text/plain": [
       "[1, 3, 5, 7, 9]"
      ]
     },
     "execution_count": 80,
     "metadata": {},
     "output_type": "execute_result"
    }
   ],
   "source": [
    "#  7.\n",
    "list3=[1,2,3,4,5,6,7,8,9,10]\n",
    "list(filter(lambda x: x%2!=0,list3))"
   ]
  },
  {
   "cell_type": "code",
   "execution_count": 87,
   "id": "57c56c39-c64e-423d-90bb-ac3a8547f6ef",
   "metadata": {},
   "outputs": [],
   "source": [
    "list4=[1,2,3,4,5,6,-1,-2,-3,-4,-5,0]\n",
    "positive_int=list(filter(lambda x: x>0,list4))\n",
    "negative_int=list(filter(lambda x: x<0,list4))\n",
    "\n",
    "\n",
    "## Zero is neither positive neither negative"
   ]
  },
  {
   "cell_type": "code",
   "execution_count": 85,
   "id": "107c59cd-04c0-451f-a63a-319b8cfcf78c",
   "metadata": {},
   "outputs": [
    {
     "data": {
      "text/plain": [
       "[1, 2, 3, 4, 5, 6]"
      ]
     },
     "execution_count": 85,
     "metadata": {},
     "output_type": "execute_result"
    }
   ],
   "source": [
    "positive_int"
   ]
  },
  {
   "cell_type": "code",
   "execution_count": 86,
   "id": "c74efa4d-88ca-4a67-8c9f-10ed304c1fee",
   "metadata": {},
   "outputs": [
    {
     "data": {
      "text/plain": [
       "[-1, -2, -3, -4, -5]"
      ]
     },
     "execution_count": 86,
     "metadata": {},
     "output_type": "execute_result"
    }
   ],
   "source": [
    "negative_int"
   ]
  },
  {
   "cell_type": "code",
   "execution_count": null,
   "id": "efa94311-1151-4402-8a31-ae22e175d720",
   "metadata": {},
   "outputs": [],
   "source": []
  }
 ],
 "metadata": {
  "kernelspec": {
   "display_name": "Python 3 (ipykernel)",
   "language": "python",
   "name": "python3"
  },
  "language_info": {
   "codemirror_mode": {
    "name": "ipython",
    "version": 3
   },
   "file_extension": ".py",
   "mimetype": "text/x-python",
   "name": "python",
   "nbconvert_exporter": "python",
   "pygments_lexer": "ipython3",
   "version": "3.10.8"
  }
 },
 "nbformat": 4,
 "nbformat_minor": 5
}
